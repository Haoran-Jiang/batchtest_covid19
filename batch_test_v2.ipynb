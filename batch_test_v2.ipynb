{
 "metadata": {
  "language_info": {
   "codemirror_mode": {
    "name": "ipython",
    "version": 3
   },
   "file_extension": ".py",
   "mimetype": "text/x-python",
   "name": "python",
   "nbconvert_exporter": "python",
   "pygments_lexer": "ipython3",
   "version": "3.8.5-final"
  },
  "orig_nbformat": 2,
  "kernelspec": {
   "name": "python38564bittorchgpuf44db79035fd49b28e46d55bc7ffaba2",
   "display_name": "Python 3.8.5 64-bit ('torch_gpu')",
   "language": "python"
  }
 },
 "nbformat": 4,
 "nbformat_minor": 2,
 "cells": [
  {
   "source": [
    "# Batch Testing Tutorial\n",
    "\n",
    "This tutorial has two roles:\n",
    "\n",
    "1. Be familiar with our code.\n",
    "2. Reproduce the results\n",
    "\n"
   ],
   "cell_type": "markdown",
   "metadata": {}
  },
  {
   "cell_type": "code",
   "execution_count": 5,
   "metadata": {},
   "outputs": [
    {
     "output_type": "stream",
     "name": "stdout",
     "text": [
      "The autoreload extension is already loaded. To reload it, use:\n  %reload_ext autoreload\n"
     ]
    }
   ],
   "source": [
    "import numpy as np\n",
    "import pandas as pd\n",
    "from numba import jit\n",
    "import time\n",
    "import numba\n",
    "import fast_btk as fbtk\n",
    "from sklearn.metrics import precision_score, recall_score\n",
    "%load_ext autoreload\n",
    "%autoreload 2"
   ]
  },
  {
   "source": [
    "# Data generation\n",
    "\n",
    "The function `data_gen` can generate a population with a certain size $N$ and infection rate $p$"
   ],
   "cell_type": "markdown",
   "metadata": {}
  },
  {
   "cell_type": "code",
   "execution_count": 2,
   "metadata": {},
   "outputs": [
    {
     "output_type": "execute_result",
     "data": {
      "text/plain": [
       "array([[0, 0],\n",
       "       [1, 0],\n",
       "       [2, 0],\n",
       "       [3, 0],\n",
       "       [4, 0],\n",
       "       [5, 0],\n",
       "       [6, 0],\n",
       "       [7, 0],\n",
       "       [8, 0],\n",
       "       [9, 0]])"
      ]
     },
     "metadata": {},
     "execution_count": 2
    }
   ],
   "source": [
    "fbtk.data_gen(size = 10, p = 0.1)"
   ]
  },
  {
   "source": [
    "# Conventional Test\n",
    "\n",
    "`conventional_test` gives the test results to a subject array given the probability of a type II error, the probability of a type I error, the number of repeatition, and setting of sequence testing or not.\n"
   ],
   "cell_type": "markdown",
   "metadata": {}
  },
  {
   "cell_type": "code",
   "execution_count": 3,
   "metadata": {},
   "outputs": [
    {
     "output_type": "stream",
     "name": "stdout",
     "text": [
      "accuracy: 0.9\ntest consumption 10\n"
     ]
    }
   ],
   "source": [
    "subject_array = fbtk.data_gen(10, 0.1)\n",
    "test_result, consum = fbtk.conventional_test(subject_array, typeII_error = 0.15,\n",
    "typeI_error=0.01, repeat= 1)\n",
    "print(f'accuracy: {np.mean(subject_array[:,1] == test_result[:,1])}')\n",
    "print(f'test consumption {consum}')"
   ]
  },
  {
   "source": [
    "## Multi-step Batch Testing\n",
    "\n",
    "`seq_test` gives the test results to a subject array, the total number of \n",
    "test-kit consumption, and the number of individual tests given the subject array,\n",
    "stopping rule, batch size, probability of a type II error, probability of a Type I error, and the number of repeatition, probability threshold, and \n",
    "setting of sequence testing or not.\n",
    "\n",
    "The following code will generate a population with size 100000 and the infection rate of 0.01. The setting of this multi-step batch testing is up to 3 sequential individual tests for 3 batch positives."
   ],
   "cell_type": "markdown",
   "metadata": {}
  },
  {
   "cell_type": "code",
   "execution_count": 4,
   "metadata": {},
   "outputs": [
    {
     "output_type": "stream",
     "name": "stdout",
     "text": [
      "accuracy: 0.99891\ntest consumption 28203.0\n"
     ]
    }
   ],
   "source": [
    "subject_array = fbtk.data_gen(100000, 0.01)\n",
    "batch_size = fbtk.one_batch_test_int_solver(0.01, 0.15, 0.01)\n",
    "test_result, consum, ind_consum = fbtk.seq_test(subject_array, batch_size = batch_size,stop_rule = 3,p = 0.01, typeII_error = 0.15, typeI_error=0.01, repeat= 3, seq = True)\n",
    "print(f'accuracy: {np.mean(subject_array[:,1] == test_result[:,1])}')\n",
    "print(f'test consumption {consum}')"
   ]
  },
  {
   "source": [
    "# Reproduce Results\n",
    "\n",
    "The following code is to produce results on Table 7 and Table 8. We will go through table 7_(a) and show the output. "
   ],
   "cell_type": "markdown",
   "metadata": {}
  },
  {
   "cell_type": "code",
   "execution_count": 6,
   "metadata": {},
   "outputs": [
    {
     "output_type": "stream",
     "name": "stdout",
     "text": [
      "running time: 153.8344419002533 s\n"
     ]
    }
   ],
   "source": [
    "# table 7 (a)\n",
    "time_start = time.time()\n",
    "np.random.seed(0)\n",
    "df = pd.DataFrame([], columns = ['Infection_rate', 'Acc', 'Acc_SD', 'Sens', 'Sens_SD', 'Spec','Spec_SD','PPV', 'PPV_SD',\n",
    "'NPV', 'NPV_SD', 'Test_consum', 'Test_consum_SD'])\n",
    "for prob in [0.001, 0.01, 0.03, 0.05, 0.10]:\n",
    "    temp_data = [fbtk.data_gen(100000, prob) for _ in range(100)]\n",
    "    length = len(temp_data)\n",
    "    acc = np.zeros(length)\n",
    "    sens = np.zeros(length)\n",
    "    spec = np.zeros(length)\n",
    "    ppv = np.zeros(length)\n",
    "    npv = np.zeros(length)\n",
    "    test_consum = np.zeros(length)\n",
    "    for i in range(length):\n",
    "        pred, consum = fbtk.conventional_test(temp_data[i], typeII_error= 0.15, typeI_error=0.01)\n",
    "        acc[i] = np.mean(pred[:,1] == temp_data[i][:, 1])\n",
    "        sens[i] = recall_score(temp_data[i][:, 1], pred[:, 1])\n",
    "        spec[i] = fbtk.specificity_score(temp_data[i][:, 1], pred[:, 1])\n",
    "        ppv[i] = precision_score(temp_data[i][:, 1], pred[:, 1])\n",
    "        npv[i] = fbtk.npv_score(temp_data[i][:, 1], pred[:, 1])\n",
    "        test_consum[i] = consum\n",
    "    result = {\n",
    "        'acc': acc,\n",
    "        'sens': sens,\n",
    "        'spec': spec,\n",
    "        'PPV': ppv,\n",
    "        'NPV': npv,\n",
    "        'test_consum': test_consum\n",
    "    \n",
    "    }\n",
    "    result = pd.DataFrame(result)\n",
    "    result_mean = result.mean()\n",
    "    result_std = result.std()\n",
    "    temp_df = [prob, result_mean['acc'], result_std['acc'], result_mean['sens'], result_std['sens'],\n",
    "    result_mean['spec'], result_std['spec'], result_mean['PPV'], result_std['PPV'], result_mean['NPV'],\n",
    "    result_std['NPV'], result_mean['test_consum'], result_std['test_consum']]\n",
    "    temp_df = pd.DataFrame(temp_df)\n",
    "    temp_df = temp_df.T\n",
    "    temp_df.columns = df.columns\n",
    "    df = pd.concat([df, temp_df])\n",
    "\n",
    "\n",
    "  \n",
    "time_end = time.time()\n",
    "print('running time:', time_end - time_start, 's')"
   ]
  },
  {
   "cell_type": "code",
   "execution_count": 8,
   "metadata": {},
   "outputs": [
    {
     "output_type": "execute_result",
     "data": {
      "text/plain": [
       "   Infection_rate       Acc    Acc_SD      Sens   Sens_SD      Spec   Spec_SD  \\\n",
       "0           0.001  0.989861  0.000327  0.852501  0.035635  0.990001  0.000326   \n",
       "0           0.010  0.988598  0.000316  0.849064  0.010490  0.990009  0.000300   \n",
       "0           0.030  0.985887  0.000393  0.849974  0.006703  0.990073  0.000319   \n",
       "0           0.050  0.983061  0.000396  0.850930  0.005089  0.990012  0.000326   \n",
       "0           0.100  0.975959  0.000442  0.849704  0.003048  0.989990  0.000335   \n",
       "\n",
       "        PPV    PPV_SD       NPV    NPV_SD  Test_consum  Test_consum_SD  \n",
       "0  0.079851  0.008803  0.999849  0.000039     100000.0             0.0  \n",
       "0  0.462084  0.010728  0.998461  0.000114     100000.0             0.0  \n",
       "0  0.725062  0.007459  0.995355  0.000219     100000.0             0.0  \n",
       "0  0.817558  0.005445  0.992142  0.000300     100000.0             0.0  \n",
       "0  0.904148  0.003147  0.983409  0.000367     100000.0             0.0  "
      ],
      "text/html": "<div>\n<style scoped>\n    .dataframe tbody tr th:only-of-type {\n        vertical-align: middle;\n    }\n\n    .dataframe tbody tr th {\n        vertical-align: top;\n    }\n\n    .dataframe thead th {\n        text-align: right;\n    }\n</style>\n<table border=\"1\" class=\"dataframe\">\n  <thead>\n    <tr style=\"text-align: right;\">\n      <th></th>\n      <th>Infection_rate</th>\n      <th>Acc</th>\n      <th>Acc_SD</th>\n      <th>Sens</th>\n      <th>Sens_SD</th>\n      <th>Spec</th>\n      <th>Spec_SD</th>\n      <th>PPV</th>\n      <th>PPV_SD</th>\n      <th>NPV</th>\n      <th>NPV_SD</th>\n      <th>Test_consum</th>\n      <th>Test_consum_SD</th>\n    </tr>\n  </thead>\n  <tbody>\n    <tr>\n      <th>0</th>\n      <td>0.001</td>\n      <td>0.989861</td>\n      <td>0.000327</td>\n      <td>0.852501</td>\n      <td>0.035635</td>\n      <td>0.990001</td>\n      <td>0.000326</td>\n      <td>0.079851</td>\n      <td>0.008803</td>\n      <td>0.999849</td>\n      <td>0.000039</td>\n      <td>100000.0</td>\n      <td>0.0</td>\n    </tr>\n    <tr>\n      <th>0</th>\n      <td>0.010</td>\n      <td>0.988598</td>\n      <td>0.000316</td>\n      <td>0.849064</td>\n      <td>0.010490</td>\n      <td>0.990009</td>\n      <td>0.000300</td>\n      <td>0.462084</td>\n      <td>0.010728</td>\n      <td>0.998461</td>\n      <td>0.000114</td>\n      <td>100000.0</td>\n      <td>0.0</td>\n    </tr>\n    <tr>\n      <th>0</th>\n      <td>0.030</td>\n      <td>0.985887</td>\n      <td>0.000393</td>\n      <td>0.849974</td>\n      <td>0.006703</td>\n      <td>0.990073</td>\n      <td>0.000319</td>\n      <td>0.725062</td>\n      <td>0.007459</td>\n      <td>0.995355</td>\n      <td>0.000219</td>\n      <td>100000.0</td>\n      <td>0.0</td>\n    </tr>\n    <tr>\n      <th>0</th>\n      <td>0.050</td>\n      <td>0.983061</td>\n      <td>0.000396</td>\n      <td>0.850930</td>\n      <td>0.005089</td>\n      <td>0.990012</td>\n      <td>0.000326</td>\n      <td>0.817558</td>\n      <td>0.005445</td>\n      <td>0.992142</td>\n      <td>0.000300</td>\n      <td>100000.0</td>\n      <td>0.0</td>\n    </tr>\n    <tr>\n      <th>0</th>\n      <td>0.100</td>\n      <td>0.975959</td>\n      <td>0.000442</td>\n      <td>0.849704</td>\n      <td>0.003048</td>\n      <td>0.989990</td>\n      <td>0.000335</td>\n      <td>0.904148</td>\n      <td>0.003147</td>\n      <td>0.983409</td>\n      <td>0.000367</td>\n      <td>100000.0</td>\n      <td>0.0</td>\n    </tr>\n  </tbody>\n</table>\n</div>"
     },
     "metadata": {},
     "execution_count": 8
    }
   ],
   "source": [
    "# Show the result\n",
    "df"
   ]
  },
  {
   "source": [
    "For table 7 (b)"
   ],
   "cell_type": "markdown",
   "metadata": {}
  },
  {
   "cell_type": "code",
   "execution_count": 9,
   "metadata": {},
   "outputs": [
    {
     "output_type": "stream",
     "name": "stdout",
     "text": [
      "running time: 117.52977275848389 s\n"
     ]
    }
   ],
   "source": [
    "# table 7 (b)\n",
    "time_start = time.time()\n",
    "np.random.seed(0)\n",
    "df = pd.DataFrame([], columns = ['Infection_rate', 'Sequential_test', 'Stop_rule', 'Repeat', 'Prob_threshold', 'Acc', 'Acc_SD', 'Sens', 'Sens_SD', 'Spec','Spec_SD','PPV', 'PPV_SD',\n",
    "'NPV', 'NPV_SD', 'Test_consum', 'Test_consum_SD', 'Ind_consum', 'Ind_consum_SD', 'Batch_consum','Batch_consum_SD'])\n",
    "for prob in [0.001, 0.01, 0.03, 0.05, 0.10]:\n",
    "    temp_data = [fbtk.data_gen(100000, prob) for _ in range(100)]\n",
    "    for i in [True]:\n",
    "        for j in [1]:\n",
    "            for k in [1]:\n",
    "                \n",
    "                kwargs = {'stop_rule': j, 'p': prob, 'batch_size': 10,\n",
    "                'typeII_error': 0.15, 'typeI_error': 0.01, 'repeat': k,\n",
    "                'prob_threshold': 0.3, 'seq': i}\n",
    "                test_1 = fbtk.test_result(temp_data, fbtk.seq_test, **kwargs)\n",
    "                temp_mean = test_1.mean()\n",
    "                temp_std = test_1.std()\n",
    "                temp = [kwargs['p'], kwargs['seq'], kwargs['stop_rule'], kwargs['repeat'], kwargs['prob_threshold'],temp_mean['acc'], temp_std['acc'], temp_mean['sens'], temp_std['sens'], temp_mean['spec'], temp_std['spec'], temp_mean['PPV'], temp_std['PPV'], temp_mean['NPV'], temp_std['NPV'], temp_mean['test_consum'], temp_std['test_consum'], temp_mean['ind_consum'], temp_std['ind_consum'], temp_mean['batch_consum'], temp_std['batch_consum']]\n",
    "                temp_df = pd.DataFrame(temp)\n",
    "                temp_df = temp_df.T\n",
    "                temp_df.columns = ['Infection_rate', 'Sequential_test', 'Stop_rule', 'Repeat','Prob_threshold', 'Acc', 'Acc_SD', 'Sens', 'Sens_SD', 'Spec','Spec_SD','PPV', 'PPV_SD',\n",
    "    'NPV', 'NPV_SD', 'Test_consum', 'Test_consum_SD', 'Ind_consum', 'Ind_consum_SD', 'Batch_consum','Batch_consum_SD']\n",
    "                df = pd.concat([df, temp_df])\n",
    "            \n",
    "time_end = time.time()\n",
    "print('running time:', time_end - time_start, 's')"
   ]
  },
  {
   "cell_type": "code",
   "execution_count": 10,
   "metadata": {},
   "outputs": [],
   "source": [
    "df.to_csv('table7_b.csv')"
   ]
  },
  {
   "source": [
    "For table 7 (c)"
   ],
   "cell_type": "markdown",
   "metadata": {}
  },
  {
   "cell_type": "code",
   "execution_count": 11,
   "metadata": {
    "tags": []
   },
   "outputs": [
    {
     "output_type": "stream",
     "name": "stdout",
     "text": [
      "running time: 132.6392548084259 s\n"
     ]
    }
   ],
   "source": [
    "time_start = time.time()\n",
    "np.random.seed(0)\n",
    "df = pd.DataFrame([], columns = ['Infection_rate', 'Sequential_test', 'Stop_rule', 'Repeat', 'Prob_threshold', 'Acc', 'Acc_SD', 'Sens', 'Sens_SD', 'Spec','Spec_SD','PPV', 'PPV_SD',\n",
    "'NPV', 'NPV_SD', 'Test_consum', 'Test_consum_SD', 'Ind_consum', 'Ind_consum_SD', 'Batch_consum','Batch_consum_SD'])\n",
    "for prob in [0.001, 0.01, 0.03, 0.05, 0.10]:\n",
    "    temp_data = [fbtk.data_gen(100000, prob) for _ in range(100)]\n",
    "    for i in [True]:\n",
    "        for j in [1]:\n",
    "            for k in [3]:\n",
    "                batch_size = fbtk.one_batch_test_int_solver(prob, 0.15, 0.01)\n",
    "                kwargs = {'stop_rule': j, 'p': prob, 'batch_size': batch_size,\n",
    "                'typeII_error': 0.15, 'typeI_error': 0.01, 'repeat': k,\n",
    "                'prob_threshold': 0.3, 'seq': i}\n",
    "                test_1 = fbtk.test_result(temp_data, fbtk.seq_test, **kwargs)\n",
    "                temp_mean = test_1.mean()\n",
    "                temp_std = test_1.std()\n",
    "                temp = [kwargs['p'], kwargs['seq'], kwargs['stop_rule'], kwargs['repeat'], kwargs['prob_threshold'],temp_mean['acc'], temp_std['acc'], temp_mean['sens'], temp_std['sens'], temp_mean['spec'], temp_std['spec'], temp_mean['PPV'], temp_std['PPV'], temp_mean['NPV'], temp_std['NPV'], temp_mean['test_consum'], temp_std['test_consum'], temp_mean['ind_consum'], temp_std['ind_consum'], temp_mean['batch_consum'], temp_std['batch_consum']]\n",
    "                temp_df = pd.DataFrame(temp)\n",
    "                temp_df = temp_df.T\n",
    "                temp_df.columns = ['Infection_rate', 'Sequential_test', 'Stop_rule', 'Repeat','Prob_threshold', 'Acc', 'Acc_SD', 'Sens', 'Sens_SD', 'Spec','Spec_SD','PPV', 'PPV_SD',\n",
    "    'NPV', 'NPV_SD', 'Test_consum', 'Test_consum_SD', 'Ind_consum', 'Ind_consum_SD', 'Batch_consum','Batch_consum_SD']\n",
    "                df = pd.concat([df, temp_df])\n",
    "            \n",
    "time_end = time.time()\n",
    "print('running time:', time_end - time_start, 's')"
   ]
  },
  {
   "cell_type": "code",
   "execution_count": 12,
   "metadata": {},
   "outputs": [
    {
     "output_type": "stream",
     "name": "stdout",
     "text": [
      "running time: 152.28528094291687 s\n"
     ]
    }
   ],
   "source": [
    "# table 7 d\n",
    "time_start = time.time()\n",
    "np.random.seed(0)\n",
    "df = pd.DataFrame([], columns = ['Infection_rate', 'Sq_Repeat', 'Ind_Repeat', 'Acc', 'Acc_SD', 'Sens', 'Sens_SD', 'Spec','Spec_SD','PPV', 'PPV_SD',\n",
    "'NPV', 'NPV_SD', 'Test_consum', 'Test_consum_SD', 'Ind_consum', 'Ind_consum_SD', 'Batch_consum','Batch_consum_SD'])\n",
    "for prob in [0.001, 0.01, 0.03, 0.05, 0.10]:\n",
    "    temp_data = [fbtk.data_gen(100000, prob) for _ in range(100)]\n",
    "    for i in [3]: # sq_repeat\n",
    "        for j in [3]: # ind_repeat\n",
    "            kwargs = {\n",
    "                'side_length': 12,\n",
    "                'typeII_error': 0.15,\n",
    "                'typeI_error': 0.01,\n",
    "                'sq_repeat': i,\n",
    "                'ind_repeat': j\n",
    "            }\n",
    "            test_1 = fbtk.test_result(temp_data, fbtk.matrix_test, **kwargs)\n",
    "            temp_mean = test_1.mean()\n",
    "            temp_std = test_1.std()\n",
    "            temp = [prob, kwargs['sq_repeat'], kwargs['ind_repeat'], temp_mean['acc'], temp_std['acc'], temp_mean['sens'], temp_std['sens'], temp_mean['spec'], temp_std['spec'], temp_mean['PPV'], temp_std['PPV'], temp_mean['NPV'], temp_std['NPV'], temp_mean['test_consum'], temp_std['test_consum'], temp_mean['ind_consum'], temp_std['ind_consum'], temp_mean['batch_consum'], temp_std['batch_consum']]\n",
    "            temp_df = pd.DataFrame(temp)\n",
    "            temp_df = temp_df.T\n",
    "            temp_df.columns = ['Infection_rate', 'Sq_Repeat', 'Ind_Repeat', 'Acc', 'Acc_SD', 'Sens', 'Sens_SD', 'Spec','Spec_SD','PPV', 'PPV_SD',\n",
    "'NPV', 'NPV_SD', 'Test_consum', 'Test_consum_SD', 'Ind_consum', 'Ind_consum_SD', 'Batch_consum','Batch_consum_SD']\n",
    "            df = pd.concat([df, temp_df])\n",
    "\n",
    "            \n",
    "                \n",
    "               \n",
    "            \n",
    "time_end = time.time()\n",
    "print('running time:', time_end - time_start, 's')"
   ]
  },
  {
   "source": [
    "table 7 (E)"
   ],
   "cell_type": "markdown",
   "metadata": {}
  },
  {
   "cell_type": "code",
   "execution_count": 13,
   "metadata": {},
   "outputs": [
    {
     "output_type": "stream",
     "name": "stdout",
     "text": [
      "running time: 161.998272895813 s\n"
     ]
    }
   ],
   "source": [
    "time_start = time.time()\n",
    "np.random.seed(0)\n",
    "df = pd.DataFrame([], columns = ['Infection_rate', 'Sequential_test', 'Stop_rule', 'Repeat', 'Prob_threshold', 'Acc', 'Acc_SD', 'Sens', 'Sens_SD', 'Spec','Spec_SD','PPV', 'PPV_SD',\n",
    "'NPV', 'NPV_SD', 'Test_consum', 'Test_consum_SD', 'Ind_consum', 'Ind_consum_SD', 'Batch_consum','Batch_consum_SD'])\n",
    "for prob in [0.001, 0.01, 0.03, 0.05, 0.10]:\n",
    "    temp_data = [fbtk.data_gen(100000, prob) for _ in range(100)]\n",
    "    for i in [True]:\n",
    "        for j in [3]: # stop_rule\n",
    "            for k in [1]: # repeat\n",
    "                batch_size = fbtk.one_batch_test_int_solver(prob, 0.15, 0.01)\n",
    "                kwargs = {'stop_rule': j, 'p': prob, 'batch_size': batch_size,\n",
    "                'typeII_error': 0.15, 'typeI_error': 0.01, 'repeat': k,\n",
    "                'prob_threshold': 0.3, 'seq': i}\n",
    "                test_1 = fbtk.test_result(temp_data, fbtk.seq_test, **kwargs)\n",
    "                temp_mean = test_1.mean()\n",
    "                temp_std = test_1.std()\n",
    "                temp = [kwargs['p'], kwargs['seq'], kwargs['stop_rule'], kwargs['repeat'], kwargs['prob_threshold'],temp_mean['acc'], temp_std['acc'], temp_mean['sens'], temp_std['sens'], temp_mean['spec'], temp_std['spec'], temp_mean['PPV'], temp_std['PPV'], temp_mean['NPV'], temp_std['NPV'], temp_mean['test_consum'], temp_std['test_consum'], temp_mean['ind_consum'], temp_std['ind_consum'], temp_mean['batch_consum'], temp_std['batch_consum']]\n",
    "                temp_df = pd.DataFrame(temp)\n",
    "                temp_df = temp_df.T\n",
    "                temp_df.columns = ['Infection_rate', 'Sequential_test', 'Stop_rule', 'Repeat','Prob_threshold', 'Acc', 'Acc_SD', 'Sens', 'Sens_SD', 'Spec','Spec_SD','PPV', 'PPV_SD',\n",
    "    'NPV', 'NPV_SD', 'Test_consum', 'Test_consum_SD', 'Ind_consum', 'Ind_consum_SD', 'Batch_consum','Batch_consum_SD']\n",
    "                df = pd.concat([df, temp_df])\n",
    "            \n",
    "time_end = time.time()\n",
    "print('running time:', time_end - time_start, 's')"
   ]
  },
  {
   "cell_type": "code",
   "execution_count": 210,
   "metadata": {},
   "outputs": [],
   "source": [
    "df.to_csv('table7_e.csv')"
   ]
  },
  {
   "source": [
    "table 7 (f)"
   ],
   "cell_type": "markdown",
   "metadata": {}
  },
  {
   "cell_type": "code",
   "execution_count": 14,
   "metadata": {},
   "outputs": [
    {
     "output_type": "stream",
     "name": "stdout",
     "text": [
      "running time: 168.818204164505 s\n"
     ]
    }
   ],
   "source": [
    "time_start = time.time()\n",
    "np.random.seed(0)\n",
    "df = pd.DataFrame([], columns = ['Infection_rate', 'Sequential_test', 'Stop_rule', 'Repeat', 'Prob_threshold', 'Acc', 'Acc_SD', 'Sens', 'Sens_SD', 'Spec','Spec_SD','PPV', 'PPV_SD',\n",
    "'NPV', 'NPV_SD', 'Test_consum', 'Test_consum_SD', 'Ind_consum', 'Ind_consum_SD', 'Batch_consum','Batch_consum_SD'])\n",
    "for prob in [0.001, 0.01, 0.03, 0.05, 0.10]:\n",
    "    temp_data = [fbtk.data_gen(100000, prob) for _ in range(100)]\n",
    "    for i in [True]:\n",
    "        for j in [3]: # stop_rule\n",
    "            for k in [3]: # repeat\n",
    "                batch_size = fbtk.one_batch_test_int_solver(prob, 0.15, 0.01)\n",
    "                kwargs = {'stop_rule': j, 'p': prob, 'batch_size': batch_size,\n",
    "                'typeII_error': 0.15, 'typeI_error': 0.01, 'repeat': k,\n",
    "                'prob_threshold': 0.3, 'seq': i}\n",
    "                test_1 = fbtk.test_result(temp_data, fbtk.seq_test, **kwargs)\n",
    "                temp_mean = test_1.mean()\n",
    "                temp_std = test_1.std()\n",
    "                temp = [kwargs['p'], kwargs['seq'], kwargs['stop_rule'], kwargs['repeat'], kwargs['prob_threshold'],temp_mean['acc'], temp_std['acc'], temp_mean['sens'], temp_std['sens'], temp_mean['spec'], temp_std['spec'], temp_mean['PPV'], temp_std['PPV'], temp_mean['NPV'], temp_std['NPV'], temp_mean['test_consum'], temp_std['test_consum'], temp_mean['ind_consum'], temp_std['ind_consum'], temp_mean['batch_consum'], temp_std['batch_consum']]\n",
    "                temp_df = pd.DataFrame(temp)\n",
    "                temp_df = temp_df.T\n",
    "                temp_df.columns = ['Infection_rate', 'Sequential_test', 'Stop_rule', 'Repeat','Prob_threshold', 'Acc', 'Acc_SD', 'Sens', 'Sens_SD', 'Spec','Spec_SD','PPV', 'PPV_SD',\n",
    "    'NPV', 'NPV_SD', 'Test_consum', 'Test_consum_SD', 'Ind_consum', 'Ind_consum_SD', 'Batch_consum','Batch_consum_SD']\n",
    "                df = pd.concat([df, temp_df])\n",
    "            \n",
    "time_end = time.time()\n",
    "print('running time:', time_end - time_start, 's')"
   ]
  },
  {
   "cell_type": "code",
   "execution_count": 213,
   "metadata": {},
   "outputs": [],
   "source": [
    "df.to_csv('table7_f.csv')"
   ]
  },
  {
   "cell_type": "code",
   "execution_count": 15,
   "metadata": {},
   "outputs": [
    {
     "output_type": "stream",
     "name": "stdout",
     "text": [
      "running time: 152.71437311172485 s\n"
     ]
    }
   ],
   "source": [
    "# appendix A\n",
    "# table 7 (a)\n",
    "time_start = time.time()\n",
    "np.random.seed(0)\n",
    "df = pd.DataFrame([], columns = ['Infection_rate', 'Acc', 'Acc_SD', 'Sens', 'Sens_SD', 'Spec','Spec_SD','PPV', 'PPV_SD',\n",
    "'NPV', 'NPV_SD', 'Test_consum', 'Test_consum_SD'])\n",
    "for prob in [0.001, 0.01, 0.03, 0.05, 0.10]:\n",
    "    temp_data = [fbtk.data_gen(100000, prob) for _ in range(100)]\n",
    "    length = len(temp_data)\n",
    "    acc = np.zeros(length)\n",
    "    sens = np.zeros(length)\n",
    "    spec = np.zeros(length)\n",
    "    ppv = np.zeros(length)\n",
    "    npv = np.zeros(length)\n",
    "    test_consum = np.zeros(length)\n",
    "    for i in range(length):\n",
    "        pred, consum = fbtk.conventional_test(temp_data[i], typeII_error= 0.25, typeI_error=0.03)\n",
    "        acc[i] = np.mean(pred[:,1] == temp_data[i][:, 1])\n",
    "        sens[i] = recall_score(temp_data[i][:, 1], pred[:, 1])\n",
    "        spec[i] = fbtk.specificity_score(temp_data[i][:, 1], pred[:, 1])\n",
    "        ppv[i] = precision_score(temp_data[i][:, 1], pred[:, 1])\n",
    "        npv[i] = fbtk.npv_score(temp_data[i][:, 1], pred[:, 1])\n",
    "        test_consum[i] = consum\n",
    "    result = {\n",
    "        'acc': acc,\n",
    "        'sens': sens,\n",
    "        'spec': spec,\n",
    "        'PPV': ppv,\n",
    "        'NPV': npv,\n",
    "        'test_consum': test_consum\n",
    "    \n",
    "    }\n",
    "    result = pd.DataFrame(result)\n",
    "    result_mean = result.mean()\n",
    "    result_std = result.std()\n",
    "    temp_df = [prob, result_mean['acc'], result_std['acc'], result_mean['sens'], result_std['sens'],\n",
    "    result_mean['spec'], result_std['spec'], result_mean['PPV'], result_std['PPV'], result_mean['NPV'],\n",
    "    result_std['NPV'], result_mean['test_consum'], result_std['test_consum']]\n",
    "    temp_df = pd.DataFrame(temp_df)\n",
    "    temp_df = temp_df.T\n",
    "    temp_df.columns = df.columns\n",
    "    df = pd.concat([df, temp_df])\n",
    "\n",
    "\n",
    "  \n",
    "time_end = time.time()\n",
    "print('running time:', time_end - time_start, 's')"
   ]
  },
  {
   "cell_type": "code",
   "execution_count": 238,
   "metadata": {},
   "outputs": [],
   "source": [
    "df.to_csv('appendix_a.csv')"
   ]
  },
  {
   "cell_type": "code",
   "execution_count": 16,
   "metadata": {},
   "outputs": [
    {
     "output_type": "stream",
     "name": "stdout",
     "text": [
      "running time: 117.7569146156311 s\n"
     ]
    }
   ],
   "source": [
    "# Appendix (b)\n",
    "time_start = time.time()\n",
    "np.random.seed(0)\n",
    "df = pd.DataFrame([], columns = ['Infection_rate', 'Sequential_test', 'Stop_rule', 'Repeat', 'Prob_threshold', 'Acc', 'Acc_SD', 'Sens', 'Sens_SD', 'Spec','Spec_SD','PPV', 'PPV_SD',\n",
    "'NPV', 'NPV_SD', 'Test_consum', 'Test_consum_SD', 'Ind_consum', 'Ind_consum_SD', 'Batch_consum','Batch_consum_SD'])\n",
    "for prob in [0.001, 0.01, 0.03, 0.05, 0.10]:\n",
    "    temp_data = [fbtk.data_gen(100000, prob) for _ in range(100)]\n",
    "    for i in [True]:\n",
    "        for j in [1]:\n",
    "            for k in [1]:\n",
    "                \n",
    "                kwargs = {'stop_rule': j, 'p': prob, 'batch_size': 10,\n",
    "                'typeII_error': 0.25, 'typeI_error': 0.03, 'repeat': k,\n",
    "                'prob_threshold': 0.3, 'seq': i}\n",
    "                test_1 = fbtk.test_result(temp_data, fbtk.seq_test, **kwargs)\n",
    "                temp_mean = test_1.mean()\n",
    "                temp_std = test_1.std()\n",
    "                temp = [kwargs['p'], kwargs['seq'], kwargs['stop_rule'], kwargs['repeat'], kwargs['prob_threshold'],temp_mean['acc'], temp_std['acc'], temp_mean['sens'], temp_std['sens'], temp_mean['spec'], temp_std['spec'], temp_mean['PPV'], temp_std['PPV'], temp_mean['NPV'], temp_std['NPV'], temp_mean['test_consum'], temp_std['test_consum'], temp_mean['ind_consum'], temp_std['ind_consum'], temp_mean['batch_consum'], temp_std['batch_consum']]\n",
    "                temp_df = pd.DataFrame(temp)\n",
    "                temp_df = temp_df.T\n",
    "                temp_df.columns = ['Infection_rate', 'Sequential_test', 'Stop_rule', 'Repeat','Prob_threshold', 'Acc', 'Acc_SD', 'Sens', 'Sens_SD', 'Spec','Spec_SD','PPV', 'PPV_SD',\n",
    "    'NPV', 'NPV_SD', 'Test_consum', 'Test_consum_SD', 'Ind_consum', 'Ind_consum_SD', 'Batch_consum','Batch_consum_SD']\n",
    "                df = pd.concat([df, temp_df])\n",
    "            \n",
    "time_end = time.time()\n",
    "print('running time:', time_end - time_start, 's')"
   ]
  },
  {
   "cell_type": "code",
   "execution_count": 242,
   "metadata": {},
   "outputs": [],
   "source": [
    "df.to_csv('appendix_b.csv')"
   ]
  },
  {
   "cell_type": "code",
   "execution_count": 17,
   "metadata": {},
   "outputs": [
    {
     "output_type": "stream",
     "name": "stdout",
     "text": [
      "running time: 131.44559955596924 s\n"
     ]
    }
   ],
   "source": [
    "# Appendix (c)\n",
    "time_start = time.time()\n",
    "np.random.seed(0)\n",
    "df = pd.DataFrame([], columns = ['Infection_rate', 'Sequential_test', 'Stop_rule', 'Repeat', 'Prob_threshold', 'Acc', 'Acc_SD', 'Sens', 'Sens_SD', 'Spec','Spec_SD','PPV', 'PPV_SD',\n",
    "'NPV', 'NPV_SD', 'Test_consum', 'Test_consum_SD', 'Ind_consum', 'Ind_consum_SD', 'Batch_consum','Batch_consum_SD'])\n",
    "for prob in [0.001, 0.01, 0.03, 0.05, 0.10]:\n",
    "    temp_data = [fbtk.data_gen(100000, prob) for _ in range(100)]\n",
    "    for i in [True]:\n",
    "        for j in [1]:\n",
    "            for k in [3]:\n",
    "                batch_size = fbtk.one_batch_test_int_solver(prob, 0.25, 0.03)\n",
    "                kwargs = {'stop_rule': j, 'p': prob, 'batch_size': batch_size,\n",
    "                'typeII_error': 0.25, 'typeI_error': 0.03, 'repeat': k,\n",
    "                'prob_threshold': 0.3, 'seq': i}\n",
    "                test_1 = fbtk.test_result(temp_data, fbtk.seq_test, **kwargs)\n",
    "                temp_mean = test_1.mean()\n",
    "                temp_std = test_1.std()\n",
    "                temp = [kwargs['p'], kwargs['seq'], kwargs['stop_rule'], kwargs['repeat'], kwargs['prob_threshold'],temp_mean['acc'], temp_std['acc'], temp_mean['sens'], temp_std['sens'], temp_mean['spec'], temp_std['spec'], temp_mean['PPV'], temp_std['PPV'], temp_mean['NPV'], temp_std['NPV'], temp_mean['test_consum'], temp_std['test_consum'], temp_mean['ind_consum'], temp_std['ind_consum'], temp_mean['batch_consum'], temp_std['batch_consum']]\n",
    "                temp_df = pd.DataFrame(temp)\n",
    "                temp_df = temp_df.T\n",
    "                temp_df.columns = ['Infection_rate', 'Sequential_test', 'Stop_rule', 'Repeat','Prob_threshold', 'Acc', 'Acc_SD', 'Sens', 'Sens_SD', 'Spec','Spec_SD','PPV', 'PPV_SD',\n",
    "    'NPV', 'NPV_SD', 'Test_consum', 'Test_consum_SD', 'Ind_consum', 'Ind_consum_SD', 'Batch_consum','Batch_consum_SD']\n",
    "                df = pd.concat([df, temp_df])\n",
    "            \n",
    "time_end = time.time()\n",
    "print('running time:', time_end - time_start, 's')"
   ]
  },
  {
   "cell_type": "code",
   "execution_count": 247,
   "metadata": {},
   "outputs": [],
   "source": [
    "df.to_csv('appendix_c.csv')"
   ]
  },
  {
   "cell_type": "code",
   "execution_count": 18,
   "metadata": {},
   "outputs": [
    {
     "output_type": "stream",
     "name": "stdout",
     "text": [
      "running time: 154.8913700580597 s\n"
     ]
    }
   ],
   "source": [
    "# Appendix (d)\n",
    "time_start = time.time()\n",
    "np.random.seed(0)\n",
    "df = pd.DataFrame([], columns = ['Infection_rate', 'Sq_Repeat', 'Ind_Repeat', 'Acc', 'Acc_SD', 'Sens', 'Sens_SD', 'Spec','Spec_SD','PPV', 'PPV_SD',\n",
    "'NPV', 'NPV_SD', 'Test_consum', 'Test_consum_SD', 'Ind_consum', 'Ind_consum_SD', 'Batch_consum','Batch_consum_SD'])\n",
    "for prob in [0.001, 0.01, 0.03, 0.05, 0.10]:\n",
    "    temp_data = [fbtk.data_gen(100000, prob) for _ in range(100)]\n",
    "    for i in [3]: # sq_repeat\n",
    "        for j in [3]: # ind_repeat\n",
    "            kwargs = {\n",
    "                'side_length': 12,\n",
    "                'typeII_error': 0.25,\n",
    "                'typeI_error': 0.03,\n",
    "                'sq_repeat': i,\n",
    "                'ind_repeat': j\n",
    "            }\n",
    "            test_1 = fbtk.test_result(temp_data, fbtk.matrix_test, **kwargs)\n",
    "            temp_mean = test_1.mean()\n",
    "            temp_std = test_1.std()\n",
    "            temp = [prob, kwargs['sq_repeat'], kwargs['ind_repeat'], temp_mean['acc'], temp_std['acc'], temp_mean['sens'], temp_std['sens'], temp_mean['spec'], temp_std['spec'], temp_mean['PPV'], temp_std['PPV'], temp_mean['NPV'], temp_std['NPV'], temp_mean['test_consum'], temp_std['test_consum'], temp_mean['ind_consum'], temp_std['ind_consum'], temp_mean['batch_consum'], temp_std['batch_consum']]\n",
    "            temp_df = pd.DataFrame(temp)\n",
    "            temp_df = temp_df.T\n",
    "            temp_df.columns = ['Infection_rate', 'Sq_Repeat', 'Ind_Repeat', 'Acc', 'Acc_SD', 'Sens', 'Sens_SD', 'Spec','Spec_SD','PPV', 'PPV_SD',\n",
    "'NPV', 'NPV_SD', 'Test_consum', 'Test_consum_SD', 'Ind_consum', 'Ind_consum_SD', 'Batch_consum','Batch_consum_SD']\n",
    "            df = pd.concat([df, temp_df])\n",
    "\n",
    "            \n",
    "                \n",
    "               \n",
    "            \n",
    "time_end = time.time()\n",
    "print('running time:', time_end - time_start, 's')"
   ]
  },
  {
   "cell_type": "code",
   "execution_count": 250,
   "metadata": {},
   "outputs": [],
   "source": [
    "df.to_csv('appendix_d.csv')"
   ]
  },
  {
   "cell_type": "code",
   "execution_count": 19,
   "metadata": {},
   "outputs": [
    {
     "output_type": "stream",
     "name": "stdout",
     "text": [
      "running time: 165.98010206222534 s\n"
     ]
    }
   ],
   "source": [
    "# Appendix e\n",
    "time_start = time.time()\n",
    "np.random.seed(0)\n",
    "df = pd.DataFrame([], columns = ['Infection_rate', 'Sequential_test', 'Stop_rule', 'Repeat', 'Prob_threshold', 'Acc', 'Acc_SD', 'Sens', 'Sens_SD', 'Spec','Spec_SD','PPV', 'PPV_SD',\n",
    "'NPV', 'NPV_SD', 'Test_consum', 'Test_consum_SD', 'Ind_consum', 'Ind_consum_SD', 'Batch_consum','Batch_consum_SD'])\n",
    "for prob in [0.001, 0.01, 0.03, 0.05, 0.10]:\n",
    "    temp_data = [fbtk.data_gen(100000, prob) for _ in range(100)]\n",
    "    for i in [True]:\n",
    "        for j in [3]: # stop_rule\n",
    "            for k in [1]: # repeat\n",
    "                batch_size = fbtk.one_batch_test_int_solver(prob, 0.25, 0.03)\n",
    "                kwargs = {'stop_rule': j, 'p': prob, 'batch_size': batch_size,\n",
    "                'typeII_error': 0.25, 'typeI_error': 0.03, 'repeat': k,\n",
    "                'prob_threshold': 0.3, 'seq': i}\n",
    "                test_1 = fbtk.test_result(temp_data, fbtk.seq_test, **kwargs)\n",
    "                temp_mean = test_1.mean()\n",
    "                temp_std = test_1.std()\n",
    "                temp = [kwargs['p'], kwargs['seq'], kwargs['stop_rule'], kwargs['repeat'], kwargs['prob_threshold'],temp_mean['acc'], temp_std['acc'], temp_mean['sens'], temp_std['sens'], temp_mean['spec'], temp_std['spec'], temp_mean['PPV'], temp_std['PPV'], temp_mean['NPV'], temp_std['NPV'], temp_mean['test_consum'], temp_std['test_consum'], temp_mean['ind_consum'], temp_std['ind_consum'], temp_mean['batch_consum'], temp_std['batch_consum']]\n",
    "                temp_df = pd.DataFrame(temp)\n",
    "                temp_df = temp_df.T\n",
    "                temp_df.columns = ['Infection_rate', 'Sequential_test', 'Stop_rule', 'Repeat','Prob_threshold', 'Acc', 'Acc_SD', 'Sens', 'Sens_SD', 'Spec','Spec_SD','PPV', 'PPV_SD',\n",
    "    'NPV', 'NPV_SD', 'Test_consum', 'Test_consum_SD', 'Ind_consum', 'Ind_consum_SD', 'Batch_consum','Batch_consum_SD']\n",
    "                df = pd.concat([df, temp_df])\n",
    "            \n",
    "time_end = time.time()\n",
    "print('running time:', time_end - time_start, 's')"
   ]
  },
  {
   "cell_type": "code",
   "execution_count": 254,
   "metadata": {},
   "outputs": [
    {
     "output_type": "stream",
     "name": "stdout",
     "text": [
      "time cost: 177.40325736999512 s\n"
     ]
    }
   ],
   "source": [
    "# Appendix f\n",
    "time_start = time.time()\n",
    "np.random.seed(0)\n",
    "df = pd.DataFrame([], columns = ['Infection_rate', 'Sequential_test', 'Stop_rule', 'Repeat', 'Prob_threshold', 'Acc', 'Acc_SD', 'Sens', 'Sens_SD', 'Spec','Spec_SD','PPV', 'PPV_SD',\n",
    "'NPV', 'NPV_SD', 'Test_consum', 'Test_consum_SD', 'Ind_consum', 'Ind_consum_SD', 'Batch_consum','Batch_consum_SD'])\n",
    "for prob in [0.001, 0.01, 0.03, 0.05, 0.10]:\n",
    "    temp_data = [fbtk.data_gen(100000, prob) for _ in range(100)]\n",
    "    for i in [True]:\n",
    "        for j in [3]: # stop_rule\n",
    "            for k in [3]: # repeat\n",
    "                batch_size = fbtk.one_batch_test_int_solver(prob, 0.25, 0.03)\n",
    "                kwargs = {'stop_rule': j, 'p': prob, 'batch_size': batch_size,\n",
    "                'typeII_error': 0.25, 'typeI_error': 0.03, 'repeat': k,\n",
    "                'prob_threshold': 0.3, 'seq': i}\n",
    "                test_1 = fbtk.test_result(temp_data, fbtk.seq_test, **kwargs)\n",
    "                temp_mean = test_1.mean()\n",
    "                temp_std = test_1.std()\n",
    "                temp = [kwargs['p'], kwargs['seq'], kwargs['stop_rule'], kwargs['repeat'], kwargs['prob_threshold'],temp_mean['acc'], temp_std['acc'], temp_mean['sens'], temp_std['sens'], temp_mean['spec'], temp_std['spec'], temp_mean['PPV'], temp_std['PPV'], temp_mean['NPV'], temp_std['NPV'], temp_mean['test_consum'], temp_std['test_consum'], temp_mean['ind_consum'], temp_std['ind_consum'], temp_mean['batch_consum'], temp_std['batch_consum']]\n",
    "                temp_df = pd.DataFrame(temp)\n",
    "                temp_df = temp_df.T\n",
    "                temp_df.columns = ['Infection_rate', 'Sequential_test', 'Stop_rule', 'Repeat','Prob_threshold', 'Acc', 'Acc_SD', 'Sens', 'Sens_SD', 'Spec','Spec_SD','PPV', 'PPV_SD',\n",
    "    'NPV', 'NPV_SD', 'Test_consum', 'Test_consum_SD', 'Ind_consum', 'Ind_consum_SD', 'Batch_consum','Batch_consum_SD']\n",
    "                df = pd.concat([df, temp_df])\n",
    "            \n",
    "time_end = time.time()\n",
    "print('running time:', time_end - time_start, 's')"
   ]
  },
  {
   "cell_type": "code",
   "execution_count": null,
   "metadata": {},
   "outputs": [],
   "source": []
  }
 ]
}