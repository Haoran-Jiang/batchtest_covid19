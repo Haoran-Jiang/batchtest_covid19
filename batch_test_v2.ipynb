{
 "cells": [
  {
   "cell_type": "markdown",
   "metadata": {},
   "source": [
    "# Batch Testing Tutorial\n",
    "\n",
    "This tutorial is served as two roles:\n",
    "\n",
    "1. Let our audiences be familar with our code.\n",
    "2. Reproduce the results on [Modeling and Computation of High Efficiency and Efficacy Multi-Step Batch Testing for Infectious Diseases] (https://arxiv.org/abs/2006.16079)\n",
    "\n",
    "\n"
   ]
  },
  {
   "cell_type": "code",
   "execution_count": 1,
   "metadata": {},
   "outputs": [],
   "source": [
    "import numpy as np\n",
    "import pandas as pd\n",
    "from numba import njit, jit\n",
    "from sklearn.metrics import recall_score, precision_score\n",
    "import time\n",
    "import numba\n",
    "import fast_btk as fbtk\n",
    "from numba.core.errors import NumbaDeprecationWarning, NumbaPendingDeprecationWarning, NumbaPerformanceWarning\n",
    "import warnings\n",
    "warnings.filterwarnings('ignore')\n",
    "warnings.filterwarnings(\"ignore\", category=NumbaPerformanceWarning)\n",
    "warnings.simplefilter('ignore', category=NumbaDeprecationWarning)\n",
    "warnings.simplefilter('ignore', category=NumbaPendingDeprecationWarning)\n",
    "%load_ext autoreload\n",
    "%autoreload 2"
   ]
  },
  {
   "cell_type": "markdown",
   "metadata": {},
   "source": [
    "# Data generation\n",
    "\n",
    "The function `data_gen` can generate a population with a certain size $N$ and infection rate $p$"
   ]
  },
  {
   "cell_type": "code",
   "execution_count": 2,
   "metadata": {},
   "outputs": [
    {
     "output_type": "stream",
     "name": "stdout",
     "text": [
      "[[0 0]\n [1 0]\n [2 0]\n [3 0]\n [4 0]\n [5 0]\n [6 0]\n [7 0]\n [8 1]\n [9 0]]\n"
     ]
    }
   ],
   "source": [
    "np.random.seed(0)\n",
    "a = fbtk.data_gen(size = 10, p = 0.1)\n",
    "print(a)"
   ]
  },
  {
   "cell_type": "markdown",
   "metadata": {},
   "source": [
    "# Conventional Test\n",
    "\n",
    "`conventional_test` gives the test results to a subject array given the probability of type II error, the probability of Type I error, and the number of repeatition, and setting of sequence testing or not.\n"
   ]
  },
  {
   "cell_type": "code",
   "execution_count": 3,
   "metadata": {},
   "outputs": [
    {
     "output_type": "stream",
     "name": "stdout",
     "text": [
      "accuracy: 1.0\ntest consumption 10\n"
     ]
    }
   ],
   "source": [
    "subject_array = fbtk.data_gen(10, 0.1)\n",
    "test_result, consum = fbtk.conventional_test(subject_array, typeII_error = 0.15,\n",
    "typeI_error=0.01, repeat= 1)\n",
    "print(f'accuracy: {np.mean(subject_array[:,1] == test_result[:,1])}')\n",
    "print(f'test consumption {consum}')"
   ]
  },
  {
   "cell_type": "markdown",
   "metadata": {},
   "source": [
    "## Multi-step Batch Testing\n",
    "\n",
    "`seq_test` gives the test results to a subject array and the total number of \n",
    "test-kit consumption and the individual testing number given the subject array,\n",
    "the stop rule, the batch size, the probability of type II error, the probability of Type I error, and the number of repeatition, the probability threshold, and \n",
    "setting of sequence testing or not.\n",
    "\n",
    "The following code will generate a population with size 100000 and the infection rate is 0.01. The setting of this multi-step batch testing is up to 3 sequential individual tests for 3 batch positives."
   ]
  },
  {
   "cell_type": "code",
   "execution_count": 4,
   "metadata": {},
   "outputs": [
    {
     "output_type": "stream",
     "name": "stdout",
     "text": [
      "accuracy: 0.99907\ntest consumption 27994.0\n"
     ]
    }
   ],
   "source": [
    "subject_array = fbtk.data_gen(100000, 0.01)\n",
    "batch_size = fbtk.one_batch_test_int_solver(0.01, 0.15, 0.01)\n",
    "test_result, consum, ind_consum = fbtk.seq_test(subject_array, batch_size = batch_size,stop_rule = 3,p = 0.01, typeII_error = 0.15, typeI_error=0.01, repeat= 3, seq = True)\n",
    "print(f'accuracy: {np.mean(subject_array[:,1] == test_result[:,1])}')\n",
    "print(f'test consumption {consum}')"
   ]
  },
  {
   "cell_type": "markdown",
   "metadata": {},
   "source": [
    "# Reproduce Results\n",
    "\n",
    "The following code is to produce results on Table 7 and Table 8 on Appendix. We will go through the table 7(a) and show the output. "
   ]
  },
  {
   "cell_type": "code",
   "execution_count": 6,
   "metadata": {},
   "outputs": [
    {
     "output_type": "stream",
     "name": "stdout",
     "text": [
      "time cost: 152.85753273963928 s\n"
     ]
    }
   ],
   "source": [
    "# table 7 (a)\n",
    "time_start = time.time()\n",
    "np.random.seed(0)\n",
    "df = pd.DataFrame([], columns = ['Infection_rate', 'Acc', 'Acc_SD', 'Sens', 'Sens_SD', 'Spec','Spec_SD','PPV', 'PPV_SD',\n",
    "'NPV', 'NPV_SD', 'Test_consum', 'Test_consum_SD'])\n",
    "for prob in [0.001, 0.01, 0.03, 0.05, 0.10]:\n",
    "    temp_data = [fbtk.data_gen(100000, prob) for _ in range(100)]\n",
    "    length = len(temp_data)\n",
    "    acc = np.zeros(length)\n",
    "    sens = np.zeros(length)\n",
    "    spec = np.zeros(length)\n",
    "    ppv = np.zeros(length)\n",
    "    npv = np.zeros(length)\n",
    "    test_consum = np.zeros(length)\n",
    "    for i in range(length):\n",
    "        pred, consum = fbtk.conventional_test(temp_data[i], typeII_error= 0.15, typeI_error=0.01)\n",
    "        acc[i] = np.mean(pred[:,1] == temp_data[i][:, 1])\n",
    "        sens[i] = recall_score(temp_data[i][:, 1], pred[:, 1])\n",
    "        spec[i] = fbtk.specificity_score(temp_data[i][:, 1], pred[:, 1])\n",
    "        ppv[i] = precision_score(temp_data[i][:, 1], pred[:, 1])\n",
    "        npv[i] = fbtk.npv_score(temp_data[i][:, 1], pred[:, 1])\n",
    "        test_consum[i] = consum\n",
    "    result = {\n",
    "        'acc': acc,\n",
    "        'sens': sens,\n",
    "        'spec': spec,\n",
    "        'PPV': ppv,\n",
    "        'NPV': npv,\n",
    "        'test_consum': test_consum\n",
    "    \n",
    "    }\n",
    "    result = pd.DataFrame(result)\n",
    "    result_mean = result.mean()\n",
    "    result_std = result.std()\n",
    "    temp_df = [prob, result_mean['acc'], result_std['acc'], result_mean['sens'], result_std['sens'],\n",
    "    result_mean['spec'], result_std['spec'], result_mean['PPV'], result_std['PPV'], result_mean['NPV'],\n",
    "    result_std['NPV'], result_mean['test_consum'], result_std['test_consum']]\n",
    "    temp_df = pd.DataFrame(temp_df)\n",
    "    temp_df = temp_df.T\n",
    "    temp_df.columns = df.columns\n",
    "    df = pd.concat([df, temp_df])\n",
    "\n",
    "\n",
    "  \n",
    "time_end = time.time()\n",
    "print('time cost:', time_end - time_start, 's')"
   ]
  },
  {
   "cell_type": "code",
   "execution_count": 7,
   "metadata": {},
   "outputs": [
    {
     "output_type": "execute_result",
     "data": {
      "text/plain": [
       "   Infection_rate       Acc    Acc_SD      Sens   Sens_SD      Spec   Spec_SD  \\\n",
       "0           0.001  0.989861  0.000327  0.852501  0.035635  0.990001  0.000326   \n",
       "0           0.010  0.988598  0.000316  0.849064  0.010490  0.990009  0.000300   \n",
       "0           0.030  0.985887  0.000393  0.849974  0.006703  0.990073  0.000319   \n",
       "0           0.050  0.983061  0.000396  0.850930  0.005089  0.990012  0.000326   \n",
       "0           0.100  0.975959  0.000442  0.849704  0.003048  0.989990  0.000335   \n",
       "\n",
       "        PPV    PPV_SD       NPV    NPV_SD  Test_consum  Test_consum_SD  \n",
       "0  0.079851  0.008803  0.999849  0.000039     100000.0             0.0  \n",
       "0  0.462084  0.010728  0.998461  0.000114     100000.0             0.0  \n",
       "0  0.725062  0.007459  0.995355  0.000219     100000.0             0.0  \n",
       "0  0.817558  0.005445  0.992142  0.000300     100000.0             0.0  \n",
       "0  0.904148  0.003147  0.983409  0.000367     100000.0             0.0  "
      ],
      "text/html": "<div>\n<style scoped>\n    .dataframe tbody tr th:only-of-type {\n        vertical-align: middle;\n    }\n\n    .dataframe tbody tr th {\n        vertical-align: top;\n    }\n\n    .dataframe thead th {\n        text-align: right;\n    }\n</style>\n<table border=\"1\" class=\"dataframe\">\n  <thead>\n    <tr style=\"text-align: right;\">\n      <th></th>\n      <th>Infection_rate</th>\n      <th>Acc</th>\n      <th>Acc_SD</th>\n      <th>Sens</th>\n      <th>Sens_SD</th>\n      <th>Spec</th>\n      <th>Spec_SD</th>\n      <th>PPV</th>\n      <th>PPV_SD</th>\n      <th>NPV</th>\n      <th>NPV_SD</th>\n      <th>Test_consum</th>\n      <th>Test_consum_SD</th>\n    </tr>\n  </thead>\n  <tbody>\n    <tr>\n      <th>0</th>\n      <td>0.001</td>\n      <td>0.989861</td>\n      <td>0.000327</td>\n      <td>0.852501</td>\n      <td>0.035635</td>\n      <td>0.990001</td>\n      <td>0.000326</td>\n      <td>0.079851</td>\n      <td>0.008803</td>\n      <td>0.999849</td>\n      <td>0.000039</td>\n      <td>100000.0</td>\n      <td>0.0</td>\n    </tr>\n    <tr>\n      <th>0</th>\n      <td>0.010</td>\n      <td>0.988598</td>\n      <td>0.000316</td>\n      <td>0.849064</td>\n      <td>0.010490</td>\n      <td>0.990009</td>\n      <td>0.000300</td>\n      <td>0.462084</td>\n      <td>0.010728</td>\n      <td>0.998461</td>\n      <td>0.000114</td>\n      <td>100000.0</td>\n      <td>0.0</td>\n    </tr>\n    <tr>\n      <th>0</th>\n      <td>0.030</td>\n      <td>0.985887</td>\n      <td>0.000393</td>\n      <td>0.849974</td>\n      <td>0.006703</td>\n      <td>0.990073</td>\n      <td>0.000319</td>\n      <td>0.725062</td>\n      <td>0.007459</td>\n      <td>0.995355</td>\n      <td>0.000219</td>\n      <td>100000.0</td>\n      <td>0.0</td>\n    </tr>\n    <tr>\n      <th>0</th>\n      <td>0.050</td>\n      <td>0.983061</td>\n      <td>0.000396</td>\n      <td>0.850930</td>\n      <td>0.005089</td>\n      <td>0.990012</td>\n      <td>0.000326</td>\n      <td>0.817558</td>\n      <td>0.005445</td>\n      <td>0.992142</td>\n      <td>0.000300</td>\n      <td>100000.0</td>\n      <td>0.0</td>\n    </tr>\n    <tr>\n      <th>0</th>\n      <td>0.100</td>\n      <td>0.975959</td>\n      <td>0.000442</td>\n      <td>0.849704</td>\n      <td>0.003048</td>\n      <td>0.989990</td>\n      <td>0.000335</td>\n      <td>0.904148</td>\n      <td>0.003147</td>\n      <td>0.983409</td>\n      <td>0.000367</td>\n      <td>100000.0</td>\n      <td>0.0</td>\n    </tr>\n  </tbody>\n</table>\n</div>"
     },
     "metadata": {},
     "execution_count": 7
    }
   ],
   "source": [
    "# Show the result\n",
    "df"
   ]
  },
  {
   "cell_type": "markdown",
   "metadata": {},
   "source": [
    "For table 7 (b)"
   ]
  },
  {
   "cell_type": "code",
   "execution_count": 5,
   "metadata": {},
   "outputs": [
    {
     "output_type": "stream",
     "name": "stdout",
     "text": [
      "time cost: 112.00877380371094 s\n"
     ]
    }
   ],
   "source": [
    "# table 7 (b)\n",
    "time_start = time.time()\n",
    "np.random.seed(0)\n",
    "df = pd.DataFrame([], columns = ['Infection_rate', 'Sequential_test', 'Stop_rule', 'Repeat', 'Prob_threshold', 'Acc', 'Acc_SD', 'Sens', 'Sens_SD', 'Spec','Spec_SD','PPV', 'PPV_SD',\n",
    "'NPV', 'NPV_SD', 'Test_consum', 'Test_consum_SD', 'Ind_consum', 'Ind_consum_SD', 'Batch_consum','Batch_consum_SD'])\n",
    "for prob in [0.001, 0.01, 0.03, 0.05, 0.10]:\n",
    "    temp_data = [fbtk.data_gen(100000, prob) for _ in range(100)]\n",
    "    for i in [True]:\n",
    "        for j in [1]:\n",
    "            for k in [1]:\n",
    "                \n",
    "                kwargs = {'stop_rule': j, 'p': prob, 'batch_size': 10,\n",
    "                'typeII_error': 0.15, 'typeI_error': 0.01, 'repeat': k,\n",
    "                'prob_threshold': 0.3, 'seq': i}\n",
    "                test_1 = fbtk.test_result(temp_data, fbtk.seq_test, **kwargs)\n",
    "                temp_mean = test_1.mean()\n",
    "                temp_std = test_1.std()\n",
    "                temp = [kwargs['p'], kwargs['seq'], kwargs['stop_rule'], kwargs['repeat'], kwargs['prob_threshold'],temp_mean['acc'], temp_std['acc'], temp_mean['sens'], temp_std['sens'], temp_mean['spec'], temp_std['spec'], temp_mean['PPV'], temp_std['PPV'], temp_mean['NPV'], temp_std['NPV'], temp_mean['test_consum'], temp_std['test_consum'], temp_mean['ind_consum'], temp_std['ind_consum'], temp_mean['batch_consum'], temp_std['batch_consum']]\n",
    "                temp_df = pd.DataFrame(temp)\n",
    "                temp_df = temp_df.T\n",
    "                temp_df.columns = ['Infection_rate', 'Sequential_test', 'Stop_rule', 'Repeat','Prob_threshold', 'Acc', 'Acc_SD', 'Sens', 'Sens_SD', 'Spec','Spec_SD','PPV', 'PPV_SD',\n",
    "    'NPV', 'NPV_SD', 'Test_consum', 'Test_consum_SD', 'Ind_consum', 'Ind_consum_SD', 'Batch_consum','Batch_consum_SD']\n",
    "                df = pd.concat([df, temp_df])\n",
    "            \n",
    "time_end = time.time()\n",
    "print('time cost:', time_end - time_start, 's')"
   ]
  },
  {
   "cell_type": "code",
   "execution_count": 6,
   "metadata": {},
   "outputs": [
    {
     "output_type": "execute_result",
     "data": {
      "text/plain": [
       "  Infection_rate Sequential_test Stop_rule Repeat Prob_threshold       Acc  \\\n",
       "0          0.001            True         1      1            0.3  0.999545   \n",
       "0          0.010            True         1      1            0.3  0.996432   \n",
       "0          0.030            True         1      1            0.3  0.989654   \n",
       "0          0.050            True         1      1            0.3  0.983083   \n",
       "0          0.100            True         1      1            0.3  0.967491   \n",
       "\n",
       "     Acc_SD      Sens   Sens_SD      Spec  ...       PPV    PPV_SD       NPV  \\\n",
       "0  0.000069  0.726110  0.041315  0.999823  ...  0.807392  0.044873  0.999721   \n",
       "0  0.000197  0.721298  0.016290  0.999193  ...  0.899801  0.010102  0.997208   \n",
       "0  0.000349  0.724059  0.009308  0.997879  ...  0.913588  0.005681  0.991510   \n",
       "0  0.000464  0.721876  0.007492  0.996817  ...  0.922653  0.003949  0.985541   \n",
       "0  0.000608  0.722080  0.005245  0.994774  ...  0.938878  0.002826  0.969876   \n",
       "\n",
       "     NPV_SD Test_consum Test_consum_SD Ind_consum Ind_consum_SD Batch_consum  \\\n",
       "0  0.000052     11840.5     133.366473     1840.5    133.366473      10000.0   \n",
       "0  0.000178     18981.1     259.295452     8981.1    259.295452      10000.0   \n",
       "0  0.000310     33107.5     438.317202    23107.5    438.317202      10000.0   \n",
       "0  0.000424     44693.3     500.375728    34693.3    500.375728      10000.0   \n",
       "0  0.000563     65671.4     519.189384    55671.4    519.189384      10000.0   \n",
       "\n",
       "  Batch_consum_SD  \n",
       "0             0.0  \n",
       "0             0.0  \n",
       "0             0.0  \n",
       "0             0.0  \n",
       "0             0.0  \n",
       "\n",
       "[5 rows x 21 columns]"
      ],
      "text/html": "<div>\n<style scoped>\n    .dataframe tbody tr th:only-of-type {\n        vertical-align: middle;\n    }\n\n    .dataframe tbody tr th {\n        vertical-align: top;\n    }\n\n    .dataframe thead th {\n        text-align: right;\n    }\n</style>\n<table border=\"1\" class=\"dataframe\">\n  <thead>\n    <tr style=\"text-align: right;\">\n      <th></th>\n      <th>Infection_rate</th>\n      <th>Sequential_test</th>\n      <th>Stop_rule</th>\n      <th>Repeat</th>\n      <th>Prob_threshold</th>\n      <th>Acc</th>\n      <th>Acc_SD</th>\n      <th>Sens</th>\n      <th>Sens_SD</th>\n      <th>Spec</th>\n      <th>...</th>\n      <th>PPV</th>\n      <th>PPV_SD</th>\n      <th>NPV</th>\n      <th>NPV_SD</th>\n      <th>Test_consum</th>\n      <th>Test_consum_SD</th>\n      <th>Ind_consum</th>\n      <th>Ind_consum_SD</th>\n      <th>Batch_consum</th>\n      <th>Batch_consum_SD</th>\n    </tr>\n  </thead>\n  <tbody>\n    <tr>\n      <th>0</th>\n      <td>0.001</td>\n      <td>True</td>\n      <td>1</td>\n      <td>1</td>\n      <td>0.3</td>\n      <td>0.999545</td>\n      <td>0.000069</td>\n      <td>0.726110</td>\n      <td>0.041315</td>\n      <td>0.999823</td>\n      <td>...</td>\n      <td>0.807392</td>\n      <td>0.044873</td>\n      <td>0.999721</td>\n      <td>0.000052</td>\n      <td>11840.5</td>\n      <td>133.366473</td>\n      <td>1840.5</td>\n      <td>133.366473</td>\n      <td>10000.0</td>\n      <td>0.0</td>\n    </tr>\n    <tr>\n      <th>0</th>\n      <td>0.010</td>\n      <td>True</td>\n      <td>1</td>\n      <td>1</td>\n      <td>0.3</td>\n      <td>0.996432</td>\n      <td>0.000197</td>\n      <td>0.721298</td>\n      <td>0.016290</td>\n      <td>0.999193</td>\n      <td>...</td>\n      <td>0.899801</td>\n      <td>0.010102</td>\n      <td>0.997208</td>\n      <td>0.000178</td>\n      <td>18981.1</td>\n      <td>259.295452</td>\n      <td>8981.1</td>\n      <td>259.295452</td>\n      <td>10000.0</td>\n      <td>0.0</td>\n    </tr>\n    <tr>\n      <th>0</th>\n      <td>0.030</td>\n      <td>True</td>\n      <td>1</td>\n      <td>1</td>\n      <td>0.3</td>\n      <td>0.989654</td>\n      <td>0.000349</td>\n      <td>0.724059</td>\n      <td>0.009308</td>\n      <td>0.997879</td>\n      <td>...</td>\n      <td>0.913588</td>\n      <td>0.005681</td>\n      <td>0.991510</td>\n      <td>0.000310</td>\n      <td>33107.5</td>\n      <td>438.317202</td>\n      <td>23107.5</td>\n      <td>438.317202</td>\n      <td>10000.0</td>\n      <td>0.0</td>\n    </tr>\n    <tr>\n      <th>0</th>\n      <td>0.050</td>\n      <td>True</td>\n      <td>1</td>\n      <td>1</td>\n      <td>0.3</td>\n      <td>0.983083</td>\n      <td>0.000464</td>\n      <td>0.721876</td>\n      <td>0.007492</td>\n      <td>0.996817</td>\n      <td>...</td>\n      <td>0.922653</td>\n      <td>0.003949</td>\n      <td>0.985541</td>\n      <td>0.000424</td>\n      <td>44693.3</td>\n      <td>500.375728</td>\n      <td>34693.3</td>\n      <td>500.375728</td>\n      <td>10000.0</td>\n      <td>0.0</td>\n    </tr>\n    <tr>\n      <th>0</th>\n      <td>0.100</td>\n      <td>True</td>\n      <td>1</td>\n      <td>1</td>\n      <td>0.3</td>\n      <td>0.967491</td>\n      <td>0.000608</td>\n      <td>0.722080</td>\n      <td>0.005245</td>\n      <td>0.994774</td>\n      <td>...</td>\n      <td>0.938878</td>\n      <td>0.002826</td>\n      <td>0.969876</td>\n      <td>0.000563</td>\n      <td>65671.4</td>\n      <td>519.189384</td>\n      <td>55671.4</td>\n      <td>519.189384</td>\n      <td>10000.0</td>\n      <td>0.0</td>\n    </tr>\n  </tbody>\n</table>\n<p>5 rows × 21 columns</p>\n</div>"
     },
     "metadata": {},
     "execution_count": 6
    }
   ],
   "source": [
    "df"
   ]
  },
  {
   "cell_type": "code",
   "execution_count": 218,
   "metadata": {},
   "outputs": [],
   "source": [
    "df.to_csv('table7_b.csv')"
   ]
  },
  {
   "cell_type": "markdown",
   "metadata": {},
   "source": [
    "For table 7 (c)"
   ]
  },
  {
   "cell_type": "code",
   "execution_count": 203,
   "metadata": {
    "tags": []
   },
   "outputs": [
    {
     "name": "stdout",
     "output_type": "stream",
     "text": [
      "time cost: 132.43640065193176 s\n"
     ]
    }
   ],
   "source": [
    "time_start = time.time()\n",
    "np.random.seed(0)\n",
    "df = pd.DataFrame([], columns = ['Infection_rate', 'Sequential_test', 'Stop_rule', 'Repeat', 'Prob_threshold', 'Acc', 'Acc_SD', 'Sens', 'Sens_SD', 'Spec','Spec_SD','PPV', 'PPV_SD',\n",
    "'NPV', 'NPV_SD', 'Test_consum', 'Test_consum_SD', 'Ind_consum', 'Ind_consum_SD', 'Batch_consum','Batch_consum_SD'])\n",
    "for prob in [0.001, 0.01, 0.03, 0.05, 0.10]:\n",
    "    temp_data = [fbtk.data_gen(100000, prob) for _ in range(100)]\n",
    "    for i in [True]:\n",
    "        for j in [1]:\n",
    "            for k in [3]:\n",
    "                batch_size = fbtk.one_batch_test_int_solver(prob, 0.15, 0.01)\n",
    "                kwargs = {'stop_rule': j, 'p': prob, 'batch_size': batch_size,\n",
    "                'typeII_error': 0.15, 'typeI_error': 0.01, 'repeat': k,\n",
    "                'prob_threshold': 0.3, 'seq': i}\n",
    "                test_1 = fbtk.test_result(temp_data, fbtk.seq_test, **kwargs)\n",
    "                temp_mean = test_1.mean()\n",
    "                temp_std = test_1.std()\n",
    "                temp = [kwargs['p'], kwargs['seq'], kwargs['stop_rule'], kwargs['repeat'], kwargs['prob_threshold'],temp_mean['acc'], temp_std['acc'], temp_mean['sens'], temp_std['sens'], temp_mean['spec'], temp_std['spec'], temp_mean['PPV'], temp_std['PPV'], temp_mean['NPV'], temp_std['NPV'], temp_mean['test_consum'], temp_std['test_consum'], temp_mean['ind_consum'], temp_std['ind_consum'], temp_mean['batch_consum'], temp_std['batch_consum']]\n",
    "                temp_df = pd.DataFrame(temp)\n",
    "                temp_df = temp_df.T\n",
    "                temp_df.columns = ['Infection_rate', 'Sequential_test', 'Stop_rule', 'Repeat','Prob_threshold', 'Acc', 'Acc_SD', 'Sens', 'Sens_SD', 'Spec','Spec_SD','PPV', 'PPV_SD',\n",
    "    'NPV', 'NPV_SD', 'Test_consum', 'Test_consum_SD', 'Ind_consum', 'Ind_consum_SD', 'Batch_consum','Batch_consum_SD']\n",
    "                df = pd.concat([df, temp_df])\n",
    "            \n",
    "time_end = time.time()\n",
    "print('time cost:', time_end - time_start, 's')"
   ]
  },
  {
   "cell_type": "code",
   "execution_count": 233,
   "metadata": {},
   "outputs": [
    {
     "name": "stdout",
     "output_type": "stream",
     "text": [
      "time cost: 153.5919063091278 s\n"
     ]
    }
   ],
   "source": [
    "# table 7 d\n",
    "time_start = time.time()\n",
    "np.random.seed(0)\n",
    "df = pd.DataFrame([], columns = ['Infection_rate', 'Sq_Repeat', 'Ind_Repeat', 'Acc', 'Acc_SD', 'Sens', 'Sens_SD', 'Spec','Spec_SD','PPV', 'PPV_SD',\n",
    "'NPV', 'NPV_SD', 'Test_consum', 'Test_consum_SD', 'Ind_consum', 'Ind_consum_SD', 'Batch_consum','Batch_consum_SD'])\n",
    "for prob in [0.001, 0.01, 0.03, 0.05, 0.10]:\n",
    "    temp_data = [fbtk.data_gen(100000, prob) for _ in range(100)]\n",
    "    for i in [3]: # sq_repeat\n",
    "        for j in [3]: # ind_repeat\n",
    "            kwargs = {\n",
    "                'side_length': 12,\n",
    "                'typeII_error': 0.15,\n",
    "                'typeI_error': 0.01,\n",
    "                'sq_repeat': i,\n",
    "                'ind_repeat': j\n",
    "            }\n",
    "            test_1 = fbtk.test_result(temp_data, fbtk.matrix_test, **kwargs)\n",
    "            temp_mean = test_1.mean()\n",
    "            temp_std = test_1.std()\n",
    "            temp = [prob, kwargs['sq_repeat'], kwargs['ind_repeat'], temp_mean['acc'], temp_std['acc'], temp_mean['sens'], temp_std['sens'], temp_mean['spec'], temp_std['spec'], temp_mean['PPV'], temp_std['PPV'], temp_mean['NPV'], temp_std['NPV'], temp_mean['test_consum'], temp_std['test_consum'], temp_mean['ind_consum'], temp_std['ind_consum'], temp_mean['batch_consum'], temp_std['batch_consum']]\n",
    "            temp_df = pd.DataFrame(temp)\n",
    "            temp_df = temp_df.T\n",
    "            temp_df.columns = ['Infection_rate', 'Sq_Repeat', 'Ind_Repeat', 'Acc', 'Acc_SD', 'Sens', 'Sens_SD', 'Spec','Spec_SD','PPV', 'PPV_SD',\n",
    "'NPV', 'NPV_SD', 'Test_consum', 'Test_consum_SD', 'Ind_consum', 'Ind_consum_SD', 'Batch_consum','Batch_consum_SD']\n",
    "            df = pd.concat([df, temp_df])\n",
    "\n",
    "            \n",
    "                \n",
    "               \n",
    "            \n",
    "time_end = time.time()\n",
    "print('time cost:', time_end - time_start, 's')"
   ]
  },
  {
   "cell_type": "markdown",
   "metadata": {},
   "source": [
    "table 7 (E)"
   ]
  },
  {
   "cell_type": "code",
   "execution_count": 208,
   "metadata": {},
   "outputs": [
    {
     "name": "stdout",
     "output_type": "stream",
     "text": [
      "time cost: 162.91796922683716 s\n"
     ]
    }
   ],
   "source": [
    "time_start = time.time()\n",
    "np.random.seed(0)\n",
    "df = pd.DataFrame([], columns = ['Infection_rate', 'Sequential_test', 'Stop_rule', 'Repeat', 'Prob_threshold', 'Acc', 'Acc_SD', 'Sens', 'Sens_SD', 'Spec','Spec_SD','PPV', 'PPV_SD',\n",
    "'NPV', 'NPV_SD', 'Test_consum', 'Test_consum_SD', 'Ind_consum', 'Ind_consum_SD', 'Batch_consum','Batch_consum_SD'])\n",
    "for prob in [0.001, 0.01, 0.03, 0.05, 0.10]:\n",
    "    temp_data = [fbtk.data_gen(100000, prob) for _ in range(100)]\n",
    "    for i in [True]:\n",
    "        for j in [3]: # stop_rule\n",
    "            for k in [1]: # repeat\n",
    "                batch_size = fbtk.one_batch_test_int_solver(prob, 0.15, 0.01)\n",
    "                kwargs = {'stop_rule': j, 'p': prob, 'batch_size': batch_size,\n",
    "                'typeII_error': 0.15, 'typeI_error': 0.01, 'repeat': k,\n",
    "                'prob_threshold': 0.3, 'seq': i}\n",
    "                test_1 = fbtk.test_result(temp_data, fbtk.seq_test, **kwargs)\n",
    "                temp_mean = test_1.mean()\n",
    "                temp_std = test_1.std()\n",
    "                temp = [kwargs['p'], kwargs['seq'], kwargs['stop_rule'], kwargs['repeat'], kwargs['prob_threshold'],temp_mean['acc'], temp_std['acc'], temp_mean['sens'], temp_std['sens'], temp_mean['spec'], temp_std['spec'], temp_mean['PPV'], temp_std['PPV'], temp_mean['NPV'], temp_std['NPV'], temp_mean['test_consum'], temp_std['test_consum'], temp_mean['ind_consum'], temp_std['ind_consum'], temp_mean['batch_consum'], temp_std['batch_consum']]\n",
    "                temp_df = pd.DataFrame(temp)\n",
    "                temp_df = temp_df.T\n",
    "                temp_df.columns = ['Infection_rate', 'Sequential_test', 'Stop_rule', 'Repeat','Prob_threshold', 'Acc', 'Acc_SD', 'Sens', 'Sens_SD', 'Spec','Spec_SD','PPV', 'PPV_SD',\n",
    "    'NPV', 'NPV_SD', 'Test_consum', 'Test_consum_SD', 'Ind_consum', 'Ind_consum_SD', 'Batch_consum','Batch_consum_SD']\n",
    "                df = pd.concat([df, temp_df])\n",
    "            \n",
    "time_end = time.time()\n",
    "print('time cost:', time_end - time_start, 's')"
   ]
  },
  {
   "cell_type": "code",
   "execution_count": 210,
   "metadata": {},
   "outputs": [],
   "source": [
    "df.to_csv('table7_e.csv')"
   ]
  },
  {
   "cell_type": "markdown",
   "metadata": {},
   "source": [
    "table 7 (f)"
   ]
  },
  {
   "cell_type": "code",
   "execution_count": 8,
   "metadata": {},
   "outputs": [
    {
     "output_type": "stream",
     "name": "stdout",
     "text": [
      "time cost: 168.18494725227356 s\n"
     ]
    }
   ],
   "source": [
    "time_start = time.time()\n",
    "np.random.seed(0)\n",
    "df = pd.DataFrame([], columns = ['Infection_rate', 'Sequential_test', 'Stop_rule', 'Repeat', 'Prob_threshold', 'Acc', 'Acc_SD', 'Sens', 'Sens_SD', 'Spec','Spec_SD','PPV', 'PPV_SD',\n",
    "'NPV', 'NPV_SD', 'Test_consum', 'Test_consum_SD', 'Ind_consum', 'Ind_consum_SD', 'Batch_consum','Batch_consum_SD'])\n",
    "for prob in [0.001, 0.01, 0.03, 0.05, 0.10]:\n",
    "    temp_data = [fbtk.data_gen(100000, prob) for _ in range(100)]\n",
    "    for i in [True]:\n",
    "        for j in [3]: # stop_rule\n",
    "            for k in [3]: # repeat\n",
    "                batch_size = fbtk.one_batch_test_int_solver(prob, 0.15, 0.01)\n",
    "                kwargs = {'stop_rule': j, 'p': prob, 'batch_size': batch_size,\n",
    "                'typeII_error': 0.15, 'typeI_error': 0.01, 'repeat': k,\n",
    "                'prob_threshold': 0.3, 'seq': i}\n",
    "                test_1 = fbtk.test_result(temp_data, fbtk.seq_test, **kwargs)\n",
    "                temp_mean = test_1.mean()\n",
    "                temp_std = test_1.std()\n",
    "                temp = [kwargs['p'], kwargs['seq'], kwargs['stop_rule'], kwargs['repeat'], kwargs['prob_threshold'],temp_mean['acc'], temp_std['acc'], temp_mean['sens'], temp_std['sens'], temp_mean['spec'], temp_std['spec'], temp_mean['PPV'], temp_std['PPV'], temp_mean['NPV'], temp_std['NPV'], temp_mean['test_consum'], temp_std['test_consum'], temp_mean['ind_consum'], temp_std['ind_consum'], temp_mean['batch_consum'], temp_std['batch_consum']]\n",
    "                temp_df = pd.DataFrame(temp)\n",
    "                temp_df = temp_df.T\n",
    "                temp_df.columns = ['Infection_rate', 'Sequential_test', 'Stop_rule', 'Repeat','Prob_threshold', 'Acc', 'Acc_SD', 'Sens', 'Sens_SD', 'Spec','Spec_SD','PPV', 'PPV_SD',\n",
    "    'NPV', 'NPV_SD', 'Test_consum', 'Test_consum_SD', 'Ind_consum', 'Ind_consum_SD', 'Batch_consum','Batch_consum_SD']\n",
    "                df = pd.concat([df, temp_df])\n",
    "            \n",
    "time_end = time.time()\n",
    "print('time cost:', time_end - time_start, 's')"
   ]
  },
  {
   "cell_type": "code",
   "execution_count": 213,
   "metadata": {},
   "outputs": [],
   "source": [
    "df.to_csv('table7_f.csv')"
   ]
  },
  {
   "cell_type": "code",
   "execution_count": 236,
   "metadata": {},
   "outputs": [
    {
     "name": "stdout",
     "output_type": "stream",
     "text": [
      "time cost: 154.51919507980347 s\n"
     ]
    }
   ],
   "source": [
    "# appendix A\n",
    "# table 7 (a)\n",
    "time_start = time.time()\n",
    "np.random.seed(0)\n",
    "df = pd.DataFrame([], columns = ['Infection_rate', 'Acc', 'Acc_SD', 'Sens', 'Sens_SD', 'Spec','Spec_SD','PPV', 'PPV_SD',\n",
    "'NPV', 'NPV_SD', 'Test_consum', 'Test_consum_SD'])\n",
    "for prob in [0.001, 0.01, 0.03, 0.05, 0.10]:\n",
    "    temp_data = [fbtk.data_gen(100000, prob) for _ in range(100)]\n",
    "    length = len(temp_data)\n",
    "    acc = np.zeros(length)\n",
    "    sens = np.zeros(length)\n",
    "    spec = np.zeros(length)\n",
    "    ppv = np.zeros(length)\n",
    "    npv = np.zeros(length)\n",
    "    test_consum = np.zeros(length)\n",
    "    for i in range(length):\n",
    "        pred, consum = fbtk.conventional_test(temp_data[i], typeII_error= 0.25, typeI_error=0.03)\n",
    "        acc[i] = np.mean(pred[:,1] == temp_data[i][:, 1])\n",
    "        sens[i] = recall_score(temp_data[i][:, 1], pred[:, 1])\n",
    "        spec[i] = fbtk.specificity_score(temp_data[i][:, 1], pred[:, 1])\n",
    "        ppv[i] = precision_score(temp_data[i][:, 1], pred[:, 1])\n",
    "        npv[i] = fbtk.npv_score(temp_data[i][:, 1], pred[:, 1])\n",
    "        test_consum[i] = consum\n",
    "    result = {\n",
    "        'acc': acc,\n",
    "        'sens': sens,\n",
    "        'spec': spec,\n",
    "        'PPV': ppv,\n",
    "        'NPV': npv,\n",
    "        'test_consum': test_consum\n",
    "    \n",
    "    }\n",
    "    result = pd.DataFrame(result)\n",
    "    result_mean = result.mean()\n",
    "    result_std = result.std()\n",
    "    temp_df = [prob, result_mean['acc'], result_std['acc'], result_mean['sens'], result_std['sens'],\n",
    "    result_mean['spec'], result_std['spec'], result_mean['PPV'], result_std['PPV'], result_mean['NPV'],\n",
    "    result_std['NPV'], result_mean['test_consum'], result_std['test_consum']]\n",
    "    temp_df = pd.DataFrame(temp_df)\n",
    "    temp_df = temp_df.T\n",
    "    temp_df.columns = df.columns\n",
    "    df = pd.concat([df, temp_df])\n",
    "\n",
    "\n",
    "  \n",
    "time_end = time.time()\n",
    "print('time cost:', time_end - time_start, 's')"
   ]
  },
  {
   "cell_type": "code",
   "execution_count": 238,
   "metadata": {},
   "outputs": [],
   "source": [
    "df.to_csv('appendix_a.csv')"
   ]
  },
  {
   "cell_type": "code",
   "execution_count": 239,
   "metadata": {},
   "outputs": [
    {
     "name": "stdout",
     "output_type": "stream",
     "text": [
      "time cost: 117.64089822769165 s\n"
     ]
    }
   ],
   "source": [
    "# Appendix (b)\n",
    "time_start = time.time()\n",
    "np.random.seed(0)\n",
    "df = pd.DataFrame([], columns = ['Infection_rate', 'Sequential_test', 'Stop_rule', 'Repeat', 'Prob_threshold', 'Acc', 'Acc_SD', 'Sens', 'Sens_SD', 'Spec','Spec_SD','PPV', 'PPV_SD',\n",
    "'NPV', 'NPV_SD', 'Test_consum', 'Test_consum_SD', 'Ind_consum', 'Ind_consum_SD', 'Batch_consum','Batch_consum_SD'])\n",
    "for prob in [0.001, 0.01, 0.03, 0.05, 0.10]:\n",
    "    temp_data = [fbtk.data_gen(100000, prob) for _ in range(100)]\n",
    "    for i in [True]:\n",
    "        for j in [1]:\n",
    "            for k in [1]:\n",
    "                \n",
    "                kwargs = {'stop_rule': j, 'p': prob, 'batch_size': 10,\n",
    "                'typeII_error': 0.25, 'typeI_error': 0.03, 'repeat': k,\n",
    "                'prob_threshold': 0.3, 'seq': i}\n",
    "                test_1 = fbtk.test_result(temp_data, fbtk.seq_test, **kwargs)\n",
    "                temp_mean = test_1.mean()\n",
    "                temp_std = test_1.std()\n",
    "                temp = [kwargs['p'], kwargs['seq'], kwargs['stop_rule'], kwargs['repeat'], kwargs['prob_threshold'],temp_mean['acc'], temp_std['acc'], temp_mean['sens'], temp_std['sens'], temp_mean['spec'], temp_std['spec'], temp_mean['PPV'], temp_std['PPV'], temp_mean['NPV'], temp_std['NPV'], temp_mean['test_consum'], temp_std['test_consum'], temp_mean['ind_consum'], temp_std['ind_consum'], temp_mean['batch_consum'], temp_std['batch_consum']]\n",
    "                temp_df = pd.DataFrame(temp)\n",
    "                temp_df = temp_df.T\n",
    "                temp_df.columns = ['Infection_rate', 'Sequential_test', 'Stop_rule', 'Repeat','Prob_threshold', 'Acc', 'Acc_SD', 'Sens', 'Sens_SD', 'Spec','Spec_SD','PPV', 'PPV_SD',\n",
    "    'NPV', 'NPV_SD', 'Test_consum', 'Test_consum_SD', 'Ind_consum', 'Ind_consum_SD', 'Batch_consum','Batch_consum_SD']\n",
    "                df = pd.concat([df, temp_df])\n",
    "            \n",
    "time_end = time.time()\n",
    "print('time cost:', time_end - time_start, 's')"
   ]
  },
  {
   "cell_type": "code",
   "execution_count": 242,
   "metadata": {},
   "outputs": [],
   "source": [
    "df.to_csv('appendix_b.csv')"
   ]
  },
  {
   "cell_type": "code",
   "execution_count": 245,
   "metadata": {},
   "outputs": [
    {
     "name": "stdout",
     "output_type": "stream",
     "text": [
      "time cost: 132.2724049091339 s\n"
     ]
    }
   ],
   "source": [
    "# Appendix (c)\n",
    "time_start = time.time()\n",
    "np.random.seed(0)\n",
    "df = pd.DataFrame([], columns = ['Infection_rate', 'Sequential_test', 'Stop_rule', 'Repeat', 'Prob_threshold', 'Acc', 'Acc_SD', 'Sens', 'Sens_SD', 'Spec','Spec_SD','PPV', 'PPV_SD',\n",
    "'NPV', 'NPV_SD', 'Test_consum', 'Test_consum_SD', 'Ind_consum', 'Ind_consum_SD', 'Batch_consum','Batch_consum_SD'])\n",
    "for prob in [0.001, 0.01, 0.03, 0.05, 0.10]:\n",
    "    temp_data = [fbtk.data_gen(100000, prob) for _ in range(100)]\n",
    "    for i in [True]:\n",
    "        for j in [1]:\n",
    "            for k in [3]:\n",
    "                batch_size = fbtk.one_batch_test_int_solver(prob, 0.25, 0.03)\n",
    "                kwargs = {'stop_rule': j, 'p': prob, 'batch_size': batch_size,\n",
    "                'typeII_error': 0.25, 'typeI_error': 0.03, 'repeat': k,\n",
    "                'prob_threshold': 0.3, 'seq': i}\n",
    "                test_1 = fbtk.test_result(temp_data, fbtk.seq_test, **kwargs)\n",
    "                temp_mean = test_1.mean()\n",
    "                temp_std = test_1.std()\n",
    "                temp = [kwargs['p'], kwargs['seq'], kwargs['stop_rule'], kwargs['repeat'], kwargs['prob_threshold'],temp_mean['acc'], temp_std['acc'], temp_mean['sens'], temp_std['sens'], temp_mean['spec'], temp_std['spec'], temp_mean['PPV'], temp_std['PPV'], temp_mean['NPV'], temp_std['NPV'], temp_mean['test_consum'], temp_std['test_consum'], temp_mean['ind_consum'], temp_std['ind_consum'], temp_mean['batch_consum'], temp_std['batch_consum']]\n",
    "                temp_df = pd.DataFrame(temp)\n",
    "                temp_df = temp_df.T\n",
    "                temp_df.columns = ['Infection_rate', 'Sequential_test', 'Stop_rule', 'Repeat','Prob_threshold', 'Acc', 'Acc_SD', 'Sens', 'Sens_SD', 'Spec','Spec_SD','PPV', 'PPV_SD',\n",
    "    'NPV', 'NPV_SD', 'Test_consum', 'Test_consum_SD', 'Ind_consum', 'Ind_consum_SD', 'Batch_consum','Batch_consum_SD']\n",
    "                df = pd.concat([df, temp_df])\n",
    "            \n",
    "time_end = time.time()\n",
    "print('time cost:', time_end - time_start, 's')"
   ]
  },
  {
   "cell_type": "code",
   "execution_count": 247,
   "metadata": {},
   "outputs": [],
   "source": [
    "df.to_csv('appendix_c.csv')"
   ]
  },
  {
   "cell_type": "code",
   "execution_count": 248,
   "metadata": {},
   "outputs": [
    {
     "name": "stdout",
     "output_type": "stream",
     "text": [
      "time cost: 156.62915325164795 s\n"
     ]
    }
   ],
   "source": [
    "# Appendix (d)\n",
    "time_start = time.time()\n",
    "np.random.seed(0)\n",
    "df = pd.DataFrame([], columns = ['Infection_rate', 'Sq_Repeat', 'Ind_Repeat', 'Acc', 'Acc_SD', 'Sens', 'Sens_SD', 'Spec','Spec_SD','PPV', 'PPV_SD',\n",
    "'NPV', 'NPV_SD', 'Test_consum', 'Test_consum_SD', 'Ind_consum', 'Ind_consum_SD', 'Batch_consum','Batch_consum_SD'])\n",
    "for prob in [0.001, 0.01, 0.03, 0.05, 0.10]:\n",
    "    temp_data = [fbtk.data_gen(100000, prob) for _ in range(100)]\n",
    "    for i in [3]: # sq_repeat\n",
    "        for j in [3]: # ind_repeat\n",
    "            kwargs = {\n",
    "                'side_length': 12,\n",
    "                'typeII_error': 0.25,\n",
    "                'typeI_error': 0.03,\n",
    "                'sq_repeat': i,\n",
    "                'ind_repeat': j\n",
    "            }\n",
    "            test_1 = fbtk.test_result(temp_data, fbtk.matrix_test, **kwargs)\n",
    "            temp_mean = test_1.mean()\n",
    "            temp_std = test_1.std()\n",
    "            temp = [prob, kwargs['sq_repeat'], kwargs['ind_repeat'], temp_mean['acc'], temp_std['acc'], temp_mean['sens'], temp_std['sens'], temp_mean['spec'], temp_std['spec'], temp_mean['PPV'], temp_std['PPV'], temp_mean['NPV'], temp_std['NPV'], temp_mean['test_consum'], temp_std['test_consum'], temp_mean['ind_consum'], temp_std['ind_consum'], temp_mean['batch_consum'], temp_std['batch_consum']]\n",
    "            temp_df = pd.DataFrame(temp)\n",
    "            temp_df = temp_df.T\n",
    "            temp_df.columns = ['Infection_rate', 'Sq_Repeat', 'Ind_Repeat', 'Acc', 'Acc_SD', 'Sens', 'Sens_SD', 'Spec','Spec_SD','PPV', 'PPV_SD',\n",
    "'NPV', 'NPV_SD', 'Test_consum', 'Test_consum_SD', 'Ind_consum', 'Ind_consum_SD', 'Batch_consum','Batch_consum_SD']\n",
    "            df = pd.concat([df, temp_df])\n",
    "\n",
    "            \n",
    "                \n",
    "               \n",
    "            \n",
    "time_end = time.time()\n",
    "print('time cost:', time_end - time_start, 's')"
   ]
  },
  {
   "cell_type": "code",
   "execution_count": 250,
   "metadata": {},
   "outputs": [],
   "source": [
    "df.to_csv('appendix_d.csv')"
   ]
  },
  {
   "cell_type": "code",
   "execution_count": 251,
   "metadata": {},
   "outputs": [
    {
     "name": "stdout",
     "output_type": "stream",
     "text": [
      "time cost: 167.72911620140076 s\n"
     ]
    }
   ],
   "source": [
    "# Appendix e\n",
    "time_start = time.time()\n",
    "np.random.seed(0)\n",
    "df = pd.DataFrame([], columns = ['Infection_rate', 'Sequential_test', 'Stop_rule', 'Repeat', 'Prob_threshold', 'Acc', 'Acc_SD', 'Sens', 'Sens_SD', 'Spec','Spec_SD','PPV', 'PPV_SD',\n",
    "'NPV', 'NPV_SD', 'Test_consum', 'Test_consum_SD', 'Ind_consum', 'Ind_consum_SD', 'Batch_consum','Batch_consum_SD'])\n",
    "for prob in [0.001, 0.01, 0.03, 0.05, 0.10]:\n",
    "    temp_data = [fbtk.data_gen(100000, prob) for _ in range(100)]\n",
    "    for i in [True]:\n",
    "        for j in [3]: # stop_rule\n",
    "            for k in [1]: # repeat\n",
    "                batch_size = fbtk.one_batch_test_int_solver(prob, 0.25, 0.03)\n",
    "                kwargs = {'stop_rule': j, 'p': prob, 'batch_size': batch_size,\n",
    "                'typeII_error': 0.25, 'typeI_error': 0.03, 'repeat': k,\n",
    "                'prob_threshold': 0.3, 'seq': i}\n",
    "                test_1 = fbtk.test_result(temp_data, fbtk.seq_test, **kwargs)\n",
    "                temp_mean = test_1.mean()\n",
    "                temp_std = test_1.std()\n",
    "                temp = [kwargs['p'], kwargs['seq'], kwargs['stop_rule'], kwargs['repeat'], kwargs['prob_threshold'],temp_mean['acc'], temp_std['acc'], temp_mean['sens'], temp_std['sens'], temp_mean['spec'], temp_std['spec'], temp_mean['PPV'], temp_std['PPV'], temp_mean['NPV'], temp_std['NPV'], temp_mean['test_consum'], temp_std['test_consum'], temp_mean['ind_consum'], temp_std['ind_consum'], temp_mean['batch_consum'], temp_std['batch_consum']]\n",
    "                temp_df = pd.DataFrame(temp)\n",
    "                temp_df = temp_df.T\n",
    "                temp_df.columns = ['Infection_rate', 'Sequential_test', 'Stop_rule', 'Repeat','Prob_threshold', 'Acc', 'Acc_SD', 'Sens', 'Sens_SD', 'Spec','Spec_SD','PPV', 'PPV_SD',\n",
    "    'NPV', 'NPV_SD', 'Test_consum', 'Test_consum_SD', 'Ind_consum', 'Ind_consum_SD', 'Batch_consum','Batch_consum_SD']\n",
    "                df = pd.concat([df, temp_df])\n",
    "            \n",
    "time_end = time.time()\n",
    "print('time cost:', time_end - time_start, 's')"
   ]
  },
  {
   "cell_type": "code",
   "execution_count": 254,
   "metadata": {},
   "outputs": [
    {
     "name": "stdout",
     "output_type": "stream",
     "text": [
      "time cost: 177.40325736999512 s\n"
     ]
    }
   ],
   "source": [
    "# Appendix f\n",
    "time_start = time.time()\n",
    "np.random.seed(0)\n",
    "df = pd.DataFrame([], columns = ['Infection_rate', 'Sequential_test', 'Stop_rule', 'Repeat', 'Prob_threshold', 'Acc', 'Acc_SD', 'Sens', 'Sens_SD', 'Spec','Spec_SD','PPV', 'PPV_SD',\n",
    "'NPV', 'NPV_SD', 'Test_consum', 'Test_consum_SD', 'Ind_consum', 'Ind_consum_SD', 'Batch_consum','Batch_consum_SD'])\n",
    "for prob in [0.001, 0.01, 0.03, 0.05, 0.10]:\n",
    "    temp_data = [fbtk.data_gen(100000, prob) for _ in range(100)]\n",
    "    for i in [True]:\n",
    "        for j in [3]: # stop_rule\n",
    "            for k in [3]: # repeat\n",
    "                batch_size = fbtk.one_batch_test_int_solver(prob, 0.25, 0.03)\n",
    "                kwargs = {'stop_rule': j, 'p': prob, 'batch_size': batch_size,\n",
    "                'typeII_error': 0.25, 'typeI_error': 0.03, 'repeat': k,\n",
    "                'prob_threshold': 0.3, 'seq': i}\n",
    "                test_1 = fbtk.test_result(temp_data, fbtk.seq_test, **kwargs)\n",
    "                temp_mean = test_1.mean()\n",
    "                temp_std = test_1.std()\n",
    "                temp = [kwargs['p'], kwargs['seq'], kwargs['stop_rule'], kwargs['repeat'], kwargs['prob_threshold'],temp_mean['acc'], temp_std['acc'], temp_mean['sens'], temp_std['sens'], temp_mean['spec'], temp_std['spec'], temp_mean['PPV'], temp_std['PPV'], temp_mean['NPV'], temp_std['NPV'], temp_mean['test_consum'], temp_std['test_consum'], temp_mean['ind_consum'], temp_std['ind_consum'], temp_mean['batch_consum'], temp_std['batch_consum']]\n",
    "                temp_df = pd.DataFrame(temp)\n",
    "                temp_df = temp_df.T\n",
    "                temp_df.columns = ['Infection_rate', 'Sequential_test', 'Stop_rule', 'Repeat','Prob_threshold', 'Acc', 'Acc_SD', 'Sens', 'Sens_SD', 'Spec','Spec_SD','PPV', 'PPV_SD',\n",
    "    'NPV', 'NPV_SD', 'Test_consum', 'Test_consum_SD', 'Ind_consum', 'Ind_consum_SD', 'Batch_consum','Batch_consum_SD']\n",
    "                df = pd.concat([df, temp_df])\n",
    "            \n",
    "time_end = time.time()\n",
    "print('time cost:', time_end - time_start, 's')"
   ]
  },
  {
   "cell_type": "code",
   "execution_count": null,
   "metadata": {},
   "outputs": [],
   "source": []
  }
 ],
 "metadata": {
  "kernelspec": {
   "display_name": "Python 3.8.5 64-bit ('torch_gpu')",
   "language": "python",
   "name": "python38564bittorchgpuf44db79035fd49b28e46d55bc7ffaba2"
  },
  "language_info": {
   "codemirror_mode": {
    "name": "ipython",
    "version": 3
   },
   "file_extension": ".py",
   "mimetype": "text/x-python",
   "name": "python",
   "nbconvert_exporter": "python",
   "pygments_lexer": "ipython3",
   "version": "3.8.8"
  }
 },
 "nbformat": 4,
 "nbformat_minor": 2
}